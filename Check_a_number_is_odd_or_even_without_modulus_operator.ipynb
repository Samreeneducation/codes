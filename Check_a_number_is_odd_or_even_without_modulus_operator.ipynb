{
  "nbformat": 4,
  "nbformat_minor": 0,
  "metadata": {
    "colab": {
      "name": "Check a number is odd or even without modulus operator.ipynb",
      "provenance": [],
      "authorship_tag": "ABX9TyPzr0fGzosw8nximNh7dqmU",
      "include_colab_link": true
    },
    "kernelspec": {
      "name": "python3",
      "display_name": "Python 3"
    }
  },
  "cells": [
    {
      "cell_type": "markdown",
      "metadata": {
        "id": "view-in-github",
        "colab_type": "text"
      },
      "source": [
        "<a href=\"https://colab.research.google.com/github/Samreeneducation/codes/blob/master/Check_a_number_is_odd_or_even_without_modulus_operator.ipynb\" target=\"_parent\"><img src=\"https://colab.research.google.com/assets/colab-badge.svg\" alt=\"Open In Colab\"/></a>"
      ]
    },
    {
      "cell_type": "markdown",
      "metadata": {
        "id": "oc6lOzksqsP3",
        "colab_type": "text"
      },
      "source": [
        "Method 1: Using Loop.\n",
        "The idea is to start with a boolean flag variable as true and switch it n times. If flag variable gets original value (which is true) back, then n is even. Else n is false.\n",
        "\n",
        "Below is the implementation of this idea."
      ]
    },
    {
      "cell_type": "code",
      "metadata": {
        "id": "HGIKMrbRquwM",
        "colab_type": "code",
        "colab": {
          "base_uri": "https://localhost:8080/",
          "height": 34
        },
        "outputId": "55ece6a5-b63e-4f3d-b3ed-0bfb7b029969"
      },
      "source": [
        "# A simple Python program to  \n",
        "# check for even or odd \n",
        "  \n",
        "# Returns true if n is even, \n",
        "# else odd \n",
        "def isEven(n): \n",
        "    isEven = True; \n",
        "    for i in range(1, n+1): \n",
        "        if isEven == True: \n",
        "            isEven = False; \n",
        "        else: \n",
        "            isEven = True; \n",
        "  \n",
        "    return isEven; \n",
        "  \n",
        "# Driver code     \n",
        "n = 101; \n",
        "if isEven(n) == True: \n",
        "    print (\"Even\"); \n",
        "else: \n",
        "    print (\"Odd\"); \n"
      ],
      "execution_count": 1,
      "outputs": [
        {
          "output_type": "stream",
          "text": [
            "Odd\n"
          ],
          "name": "stdout"
        }
      ]
    },
    {
      "cell_type": "markdown",
      "metadata": {
        "id": "aoqOAFdMrTTf",
        "colab_type": "text"
      },
      "source": [
        "Method 2: By multiply and divide by 2. Divide the number by 2 and multiply by 2 if the result is same as input then it is an even number else it is an odd number."
      ]
    },
    {
      "cell_type": "code",
      "metadata": {
        "id": "WXQyYUuFrJv9",
        "colab_type": "code",
        "colab": {}
      },
      "source": [
        "# A simple Python 3 program \n",
        "# to check for even or odd \n",
        "  \n",
        "# Returns true if n  \n",
        "# is even, else odd \n",
        "def isEven(n): \n",
        "  \n",
        "      \n",
        "    # Return true if  \n",
        "    # n/2 does not result \n",
        "    # in a float value. \n",
        "    return (int(n / 2) * 2 == n) \n",
        "  \n",
        "  \n",
        "# Driver code \n",
        "n = 101\n",
        "if(isEven(n) != False): \n",
        "    print(\"Even\") \n",
        "else: \n",
        "    print(\"Odd\") \n",
        "  \n",
        "# This code is contributed by  \n",
        "# Smitha Dinesh Semwal. "
      ],
      "execution_count": null,
      "outputs": []
    },
    {
      "cell_type": "markdown",
      "metadata": {
        "id": "ung58o-vrX1g",
        "colab_type": "text"
      },
      "source": [
        "Method 3: Using Bitwise operator &.\n",
        "A better solution is to use bitwise operators. We need to check whether last bit is 1 or not. If last bit is 1 then the number is odd, otherwise always even."
      ]
    },
    {
      "cell_type": "code",
      "metadata": {
        "id": "hWV-17warcvx",
        "colab_type": "code",
        "colab": {
          "base_uri": "https://localhost:8080/",
          "height": 34
        },
        "outputId": "2ccf82be-a649-4f48-dfe0-b002a4e9a986"
      },
      "source": [
        "# A simple Python program to  \n",
        "# check for even or odd \n",
        "# Returns 0 if n \n",
        "# is even, else odd \n",
        "def isEven(n) : \n",
        "       \n",
        "    # n&1 is 1, then  \n",
        "    # odd, else even \n",
        "    return (n & 1); \n",
        "   \n",
        "# Driver code \n",
        "n = 101; \n",
        "if(isEven(n) == 0) : \n",
        "    print (\"Even\"); \n",
        "else : \n",
        "    print (\"Odd\"); \n",
        "       \n",
        "# This code is contributed \n",
        "# by Manish Shaw (manishshaw1) "
      ],
      "execution_count": 2,
      "outputs": [
        {
          "output_type": "stream",
          "text": [
            "Odd\n"
          ],
          "name": "stdout"
        }
      ]
    },
    {
      "cell_type": "code",
      "metadata": {
        "id": "CdtSL3aqrhP1",
        "colab_type": "code",
        "colab": {}
      },
      "source": [
        ""
      ],
      "execution_count": null,
      "outputs": []
    }
  ]
}